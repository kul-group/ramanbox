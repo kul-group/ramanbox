{
 "cells": [
  {
   "cell_type": "code",
   "execution_count": 1,
   "id": "numerical-calvin",
   "metadata": {},
   "outputs": [],
   "source": [
    "#}!/usr/bin/env python\n",
    "import numpy as np\n",
    "import matplotlib.pyplot as plt\n",
    "import seaborn as sns\n",
    "\n",
    "colors = sns.color_palette('muted')"
   ]
  },
  {
   "cell_type": "code",
   "execution_count": 2,
   "id": "boxed-allocation",
   "metadata": {},
   "outputs": [],
   "source": [
    "Ulim_dict = {'Fe': {'TCPP': 0.688, 'none': 0.706, 'Fe-OH': 0.71, 'Cr-OH': 0.655, 'Mn-OH': 0.611}, \n",
    "             'Mn-OH': {'TCPP': 0.738, 'none': 0.697, 'Fe-OH': 0.606, 'Cr-OH': 0.661, 'Mn-OH': 0.659}, \n",
    "             'Cr-OH': {'TCPP': 0.749, 'none': 0.787, 'Fe-OH': 1.069, 'Cr-OH': 0.934, 'Mn-OH': 0.745}, \n",
    "             'Co': {'TCPP': 0.525, 'none': 0.593, 'Fe-OH': 0.808, 'Cr-OH': 0.648, 'Mn-OH': 0.55}, \n",
    "             'Fe-OH': {'TCPP': 0.609, 'none': 0.732, 'Fe-OH': 0.754, 'Cr-OH': 0.406, 'Mn-OH': 0.286}, \n",
    "             'Ni': {'TCPP': 0.058, 'none': 0.131, 'Fe-OH': 0.373, 'Cr-OH': 0.168, 'Mn-OH': -0.137}}"
   ]
  },
  {
   "cell_type": "code",
   "execution_count": 3,
   "id": "patient-opening",
   "metadata": {},
   "outputs": [
    {
     "data": {
      "image/png": "[encoded data removed]",
      "text/plain": [
       "<Figure size 396x288 with 2 Axes>"
      ]
     },
     "metadata": {
      "needs_background": "light"
     },
     "output_type": "display_data"
    }
   ],
   "source": [
    "specs = ['TCPP', 'none', 'Fe-OH', 'Cr-OH', 'Mn-OH']\n",
    "active = ['Mn-OH', 'Cr-OH', 'Fe-OH', 'Fe', 'Co', 'Ni']\n",
    "\n",
    "ulim = np.zeros((len(specs), len(active)))\n",
    "\n",
    "for i in range(len(active)):\n",
    "    for j in range(len(specs)):\n",
    "        ulim[j, i] = np.round(Ulim_dict[active[i]][specs[j]], 2)\n",
    "\n",
    "specs[1] = 'No spectator'\n",
    "\n",
    "fig, ax = plt.subplots(figsize=(5.5,4.0))#, constrained_layout=True)\n",
    "sns.heatmap(ulim, vmin=0, vmax=1.23, annot=True, annot_kws={'fontsize': 12}, fmt='.2f', xticklabels=active, yticklabels=specs, cmap='Spectral_r')\n",
    "plt.yticks(rotation='horizontal')\n",
    "plt.tick_params(labelsize=12)\n",
    "plt.title('')\n",
    "plt.tight_layout()\n",
    "plt.show()"
   ]
  },
  {
   "cell_type": "code",
   "execution_count": 4,
   "id": "listed-interface",
   "metadata": {},
   "outputs": [],
   "source": [
    "import pandas as pd"
   ]
  },
  {
   "cell_type": "code",
   "execution_count": 8,
   "id": "otherwise-services",
   "metadata": {},
   "outputs": [
    {
     "data": {
      "text/html": [
       "<div>\n",
       "<style scoped>\n",
       "    .dataframe tbody tr th:only-of-type {\n",
       "        vertical-align: middle;\n",
       "    }\n",
       "\n",
       "    .dataframe tbody tr th {\n",
       "        vertical-align: top;\n",
       "    }\n",
       "\n",
       "    .dataframe thead th {\n",
       "        text-align: right;\n",
       "    }\n",
       "</style>\n",
       "<table border=\"1\" class=\"dataframe\">\n",
       "  <thead>\n",
       "    <tr style=\"text-align: right;\">\n",
       "      <th></th>\n",
       "      <th>Model</th>\n",
       "      <th>Accuracy</th>\n",
       "      <th>Precision</th>\n",
       "      <th>Recall</th>\n",
       "      <th>F1</th>\n",
       "      <th>AUC</th>\n",
       "    </tr>\n",
       "  </thead>\n",
       "  <tbody>\n",
       "    <tr>\n",
       "      <th>0</th>\n",
       "      <td>LR-SGD</td>\n",
       "      <td>0.9167</td>\n",
       "      <td>0.9615</td>\n",
       "      <td>0.8621</td>\n",
       "      <td>0.9091</td>\n",
       "      <td>0.9354</td>\n",
       "    </tr>\n",
       "    <tr>\n",
       "      <th>1</th>\n",
       "      <td>SVG-SGD</td>\n",
       "      <td>0.9375</td>\n",
       "      <td>0.9391</td>\n",
       "      <td>0.9310</td>\n",
       "      <td>0.9351</td>\n",
       "      <td>0.9847</td>\n",
       "    </tr>\n",
       "    <tr>\n",
       "      <th>2</th>\n",
       "      <td>DT</td>\n",
       "      <td>0.9292</td>\n",
       "      <td>0.9304</td>\n",
       "      <td>0.9224</td>\n",
       "      <td>0.9264</td>\n",
       "      <td>0.9340</td>\n",
       "    </tr>\n",
       "    <tr>\n",
       "      <th>3</th>\n",
       "      <td>LDA</td>\n",
       "      <td>0.7417</td>\n",
       "      <td>0.7872</td>\n",
       "      <td>0.6379</td>\n",
       "      <td>0.7048</td>\n",
       "      <td>0.7852</td>\n",
       "    </tr>\n",
       "    <tr>\n",
       "      <th>4</th>\n",
       "      <td>RF</td>\n",
       "      <td>0.9292</td>\n",
       "      <td>0.9304</td>\n",
       "      <td>0.9224</td>\n",
       "      <td>0.9264</td>\n",
       "      <td>0.9903</td>\n",
       "    </tr>\n",
       "    <tr>\n",
       "      <th>5</th>\n",
       "      <td>XGBoost</td>\n",
       "      <td>0.9375</td>\n",
       "      <td>0.9316</td>\n",
       "      <td>0.9397</td>\n",
       "      <td>0.9356</td>\n",
       "      <td>0.9897</td>\n",
       "    </tr>\n",
       "  </tbody>\n",
       "</table>\n",
       "</div>"
      ],
      "text/plain": [
       "     Model  Accuracy  Precision  Recall      F1     AUC\n",
       "0   LR-SGD    0.9167     0.9615  0.8621  0.9091  0.9354\n",
       "1  SVG-SGD    0.9375     0.9391  0.9310  0.9351  0.9847\n",
       "2       DT    0.9292     0.9304  0.9224  0.9264  0.9340\n",
       "3      LDA    0.7417     0.7872  0.6379  0.7048  0.7852\n",
       "4       RF    0.9292     0.9304  0.9224  0.9264  0.9903\n",
       "5  XGBoost    0.9375     0.9316  0.9397  0.9356  0.9897"
      ]
     },
     "execution_count": 8,
     "metadata": {},
     "output_type": "execute_result"
    }
   ],
   "source": [
    "df = pd.read_csv('data/model_results.csv')\n",
    "df"
   ]
  },
  {
   "cell_type": "code",
   "execution_count": 18,
   "id": "demanding-times",
   "metadata": {},
   "outputs": [],
   "source": [
    "df.index = df['Model']"
   ]
  },
  {
   "cell_type": "code",
   "execution_count": 19,
   "id": "dense-revision",
   "metadata": {},
   "outputs": [],
   "source": [
    "df_model_index = df.drop(columns='Model')\n",
    "#df_model_index[\"Converged\"] = 1\n",
    "#df_model_index[\"Converged2\"] = 1"
   ]
  },
  {
   "cell_type": "code",
   "execution_count": 20,
   "id": "former-scanner",
   "metadata": {},
   "outputs": [
    {
     "data": {
      "text/html": [
       "<div>\n",
       "<style scoped>\n",
       "    .dataframe tbody tr th:only-of-type {\n",
       "        vertical-align: middle;\n",
       "    }\n",
       "\n",
       "    .dataframe tbody tr th {\n",
       "        vertical-align: top;\n",
       "    }\n",
       "\n",
       "    .dataframe thead th {\n",
       "        text-align: right;\n",
       "    }\n",
       "</style>\n",
       "<table border=\"1\" class=\"dataframe\">\n",
       "  <thead>\n",
       "    <tr style=\"text-align: right;\">\n",
       "      <th></th>\n",
       "      <th>Accuracy</th>\n",
       "      <th>Precision</th>\n",
       "      <th>Recall</th>\n",
       "      <th>F1</th>\n",
       "      <th>AUC</th>\n",
       "    </tr>\n",
       "    <tr>\n",
       "      <th>Model</th>\n",
       "      <th></th>\n",
       "      <th></th>\n",
       "      <th></th>\n",
       "      <th></th>\n",
       "      <th></th>\n",
       "    </tr>\n",
       "  </thead>\n",
       "  <tbody>\n",
       "    <tr>\n",
       "      <th>LR-SGD</th>\n",
       "      <td>0.9167</td>\n",
       "      <td>0.9615</td>\n",
       "      <td>0.8621</td>\n",
       "      <td>0.9091</td>\n",
       "      <td>0.9354</td>\n",
       "    </tr>\n",
       "    <tr>\n",
       "      <th>SVG-SGD</th>\n",
       "      <td>0.9375</td>\n",
       "      <td>0.9391</td>\n",
       "      <td>0.9310</td>\n",
       "      <td>0.9351</td>\n",
       "      <td>0.9847</td>\n",
       "    </tr>\n",
       "    <tr>\n",
       "      <th>DT</th>\n",
       "      <td>0.9292</td>\n",
       "      <td>0.9304</td>\n",
       "      <td>0.9224</td>\n",
       "      <td>0.9264</td>\n",
       "      <td>0.9340</td>\n",
       "    </tr>\n",
       "    <tr>\n",
       "      <th>LDA</th>\n",
       "      <td>0.7417</td>\n",
       "      <td>0.7872</td>\n",
       "      <td>0.6379</td>\n",
       "      <td>0.7048</td>\n",
       "      <td>0.7852</td>\n",
       "    </tr>\n",
       "    <tr>\n",
       "      <th>RF</th>\n",
       "      <td>0.9292</td>\n",
       "      <td>0.9304</td>\n",
       "      <td>0.9224</td>\n",
       "      <td>0.9264</td>\n",
       "      <td>0.9903</td>\n",
       "    </tr>\n",
       "    <tr>\n",
       "      <th>XGBoost</th>\n",
       "      <td>0.9375</td>\n",
       "      <td>0.9316</td>\n",
       "      <td>0.9397</td>\n",
       "      <td>0.9356</td>\n",
       "      <td>0.9897</td>\n",
       "    </tr>\n",
       "  </tbody>\n",
       "</table>\n",
       "</div>"
      ],
      "text/plain": [
       "         Accuracy  Precision  Recall      F1     AUC\n",
       "Model                                               \n",
       "LR-SGD     0.9167     0.9615  0.8621  0.9091  0.9354\n",
       "SVG-SGD    0.9375     0.9391  0.9310  0.9351  0.9847\n",
       "DT         0.9292     0.9304  0.9224  0.9264  0.9340\n",
       "LDA        0.7417     0.7872  0.6379  0.7048  0.7852\n",
       "RF         0.9292     0.9304  0.9224  0.9264  0.9903\n",
       "XGBoost    0.9375     0.9316  0.9397  0.9356  0.9897"
      ]
     },
     "execution_count": 20,
     "metadata": {},
     "output_type": "execute_result"
    }
   ],
   "source": [
    "df_model_index"
   ]
  },
  {
   "cell_type": "code",
   "execution_count": 37,
   "id": "forward-testament",
   "metadata": {},
   "outputs": [
    {
     "data": {
      "text/plain": [
       "<matplotlib.colors.LinearSegmentedColormap at 0x7ffa5ab90cd0>"
      ]
     },
     "execution_count": 37,
     "metadata": {},
     "output_type": "execute_result"
    }
   ],
   "source": [
    "sns.diverging_palette(220, 20, as_cmap=True)"
   ]
  },
  {
   "cell_type": "code",
   "execution_count": 65,
   "id": "ethical-sigma",
   "metadata": {},
   "outputs": [
    {
     "data": {
      "image/png": "[encoded data removed]",
      "text/plain": [
       "<Figure size 432x288 with 2 Axes>"
      ]
     },
     "metadata": {
      "needs_background": "light"
     },
     "output_type": "display_data"
    }
   ],
   "source": [
    "cp = sns.diverging_palette(10, 250, as_cmap=True) #sns.color_palette(\"coolwarm\")# , as_cmap=True)\n",
    "sns.heatmap(df_model_index, vmin=0.7, vmax=1, annot=True, annot_kws={'fontsize': 12}, fmt='.2f', cmap=cp)\n",
    "plt.xlabel(\"Metric\", fontsize =14)\n",
    "plt.ylabel(\"Model\", fontsize=14)\n",
    "plt.savefig('../model_matrix.svg')\n"
   ]
  },
  {
   "cell_type": "code",
   "execution_count": null,
   "id": "irish-sight",
   "metadata": {},
   "outputs": [],
   "source": []
  },
  {
   "cell_type": "code",
   "execution_count": null,
   "id": "democratic-complement",
   "metadata": {},
   "outputs": [],
   "source": []
  },
  {
   "cell_type": "code",
   "execution_count": null,
   "id": "happy-refrigerator",
   "metadata": {},
   "outputs": [],
   "source": []
  }
 ],
 "metadata": {
  "kernelspec": {
   "display_name": "mixture",
   "language": "python",
   "name": "mixture"
  },
  "language_info": {
   "codemirror_mode": {
    "name": "ipython",
    "version": 3
   },
   "file_extension": ".py",
   "mimetype": "text/x-python",
   "name": "python",
   "nbconvert_exporter": "python",
   "pygments_lexer": "ipython3",
   "version": "3.7.9"
  }
 },
 "nbformat": 4,
 "nbformat_minor": 5
}
