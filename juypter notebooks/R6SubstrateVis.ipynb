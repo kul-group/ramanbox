{
 "cells": [
  {
   "cell_type": "markdown",
   "id": "pressed-default",
   "metadata": {},
   "source": [
    "## Sample Visualization. \n",
    "\n",
    "There are five different Samples. Each Sample contains one hundreds of spots, each with a sigle spectrum. Each spectrum was assigned a \"good\", \"bad\" or \"maybe\" label by the user. This notebook visualizes "
   ]
  },
  {
   "cell_type": "code",
   "execution_count": 2,
   "id": "mysterious-advocacy",
   "metadata": {},
   "outputs": [],
   "source": [
    "import os\n",
    "import git\n",
    "import random\n",
    "import glob\n",
    "import numpy as np\n",
    "import pandas as pd\n",
    "import matplotlib.pyplot as plt\n",
    "from ramanbox.raman.sample_builder import SampleBuilder\n",
    "from ramanbox.raman.sample import Sample\n",
    "from ramanbox.raman.constants import Label\n",
    "from fit_visualization import FittingVisualizer\n",
    "from helper_funs import make_df, make_Xy\n",
    "from sklearn.calibration import calibration_curve\n",
    "from sklearn.metrics import confusion_matrix, accuracy_score\n",
    "from sklearn.model_selection import train_test_split\n",
    "from sklearn.model_selection import cross_val_score, cross_val_predict\n",
    "import copy\n",
    "from sklearn.ensemble import RandomForestClassifier\n",
    "from xgboost import XGBClassifier # 6"
   ]
  },
  {
   "cell_type": "code",
   "execution_count": 3,
   "id": "alpha-diagram",
   "metadata": {},
   "outputs": [],
   "source": [
    "random.seed(42)"
   ]
  },
  {
   "cell_type": "markdown",
   "id": "neutral-aerospace",
   "metadata": {},
   "source": [
    "## Data Loading\n",
    "\n",
    "Loading data into memory"
   ]
  },
  {
   "cell_type": "code",
   "execution_count": 4,
   "id": "controversial-helicopter",
   "metadata": {},
   "outputs": [],
   "source": [
    "labeled_data_dir = 'data'\n",
    "output_dir = '../'"
   ]
  },
  {
   "cell_type": "code",
   "execution_count": 5,
   "id": "pregnant-hungary",
   "metadata": {},
   "outputs": [],
   "source": [
    "#load labeled data \n",
    "net_cdf_files = glob.glob(os.path.join(labeled_data_dir, '*.nc'))\n",
    "sample_list = []\n",
    "for file in net_cdf_files:\n",
    "    sample_list.append(Sample.build_from_netcdf(file))"
   ]
  },
  {
   "cell_type": "code",
   "execution_count": 6,
   "id": "mounted-friday",
   "metadata": {},
   "outputs": [],
   "source": [
    "# store wavenumbers in variable \n",
    "wavenumbers = sample_list[-1].spot_list[0].spectrum_list[0].wavenumbers"
   ]
  },
  {
   "cell_type": "code",
   "execution_count": 7,
   "id": "forward-pension",
   "metadata": {},
   "outputs": [
    {
     "name": "stdout",
     "output_type": "stream",
     "text": [
      "Loaded Samples\n",
      "0 20200226_moxtek_R6G_10^-5mM_60X_20mW_20x20_scan_1sec_exposure\n",
      "1 20200226_moxtek_R6G_3mM_60X_10mW_20x20_scan_1sec_exposure\n",
      "2 20200226_plasmore_R6G_10^-5mM_60X_10mW_20x20_scan_1sec_exposure\n",
      "3 20200226_plasmore_R6G_10^-5mM_60X_20mW_20x20_scan_1sec_exposure\n",
      "4 20200226_plasmore_R6G_3mM_60X_10mW_20x20_scan_1sec_exposure\n"
     ]
    }
   ],
   "source": [
    "# print index and name of loaded samples \n",
    "print('Loaded Samples')\n",
    "for index, sample in enumerate(sample_list):\n",
    "    print(index, sample.name)"
   ]
  },
  {
   "cell_type": "markdown",
   "id": "independent-asthma",
   "metadata": {},
   "source": [
    "## Count Number of good bad and maybe labels"
   ]
  },
  {
   "cell_type": "code",
   "execution_count": 123,
   "id": "arranged-marathon",
   "metadata": {},
   "outputs": [],
   "source": [
    "sample_df = make_df(sample_list)"
   ]
  },
  {
   "cell_type": "code",
   "execution_count": 124,
   "id": "known-found",
   "metadata": {},
   "outputs": [
    {
     "data": {
      "text/html": [
       "<div>\n",
       "<style scoped>\n",
       "    .dataframe tbody tr th:only-of-type {\n",
       "        vertical-align: middle;\n",
       "    }\n",
       "\n",
       "    .dataframe tbody tr th {\n",
       "        vertical-align: top;\n",
       "    }\n",
       "\n",
       "    .dataframe thead th {\n",
       "        text-align: right;\n",
       "    }\n",
       "</style>\n",
       "<table border=\"1\" class=\"dataframe\">\n",
       "  <thead>\n",
       "    <tr style=\"text-align: right;\">\n",
       "      <th></th>\n",
       "      <th>spectrum</th>\n",
       "      <th>label</th>\n",
       "      <th>x_pos</th>\n",
       "      <th>y_pos</th>\n",
       "      <th>name</th>\n",
       "    </tr>\n",
       "  </thead>\n",
       "  <tbody>\n",
       "    <tr>\n",
       "      <th>0</th>\n",
       "      <td>[18.756165120223844, 19.054400977376893, 19.57...</td>\n",
       "      <td>Label.GOOD</td>\n",
       "      <td>0</td>\n",
       "      <td>0</td>\n",
       "      <td>20200226_moxtek_R6G_10^-5mM_60X_20mW_20x20_sca...</td>\n",
       "    </tr>\n",
       "    <tr>\n",
       "      <th>1</th>\n",
       "      <td>[16.40678608045157, 16.39639504180089, 16.3663...</td>\n",
       "      <td>Label.GOOD</td>\n",
       "      <td>1</td>\n",
       "      <td>0</td>\n",
       "      <td>20200226_moxtek_R6G_10^-5mM_60X_20mW_20x20_sca...</td>\n",
       "    </tr>\n",
       "    <tr>\n",
       "      <th>2</th>\n",
       "      <td>[16.140213015032, 16.179035595141684, 16.15268...</td>\n",
       "      <td>Label.GOOD</td>\n",
       "      <td>2</td>\n",
       "      <td>0</td>\n",
       "      <td>20200226_moxtek_R6G_10^-5mM_60X_20mW_20x20_sca...</td>\n",
       "    </tr>\n",
       "    <tr>\n",
       "      <th>3</th>\n",
       "      <td>[18.715378414044686, 19.182728800518184, 18.75...</td>\n",
       "      <td>Label.GOOD</td>\n",
       "      <td>3</td>\n",
       "      <td>0</td>\n",
       "      <td>20200226_moxtek_R6G_10^-5mM_60X_20mW_20x20_sca...</td>\n",
       "    </tr>\n",
       "    <tr>\n",
       "      <th>4</th>\n",
       "      <td>[17.851638678373543, 18.274909886172818, 18.05...</td>\n",
       "      <td>Label.GOOD</td>\n",
       "      <td>4</td>\n",
       "      <td>0</td>\n",
       "      <td>20200226_moxtek_R6G_10^-5mM_60X_20mW_20x20_sca...</td>\n",
       "    </tr>\n",
       "  </tbody>\n",
       "</table>\n",
       "</div>"
      ],
      "text/plain": [
       "                                            spectrum       label  x_pos  \\\n",
       "0  [18.756165120223844, 19.054400977376893, 19.57...  Label.GOOD      0   \n",
       "1  [16.40678608045157, 16.39639504180089, 16.3663...  Label.GOOD      1   \n",
       "2  [16.140213015032, 16.179035595141684, 16.15268...  Label.GOOD      2   \n",
       "3  [18.715378414044686, 19.182728800518184, 18.75...  Label.GOOD      3   \n",
       "4  [17.851638678373543, 18.274909886172818, 18.05...  Label.GOOD      4   \n",
       "\n",
       "   y_pos                                               name  \n",
       "0      0  20200226_moxtek_R6G_10^-5mM_60X_20mW_20x20_sca...  \n",
       "1      0  20200226_moxtek_R6G_10^-5mM_60X_20mW_20x20_sca...  \n",
       "2      0  20200226_moxtek_R6G_10^-5mM_60X_20mW_20x20_sca...  \n",
       "3      0  20200226_moxtek_R6G_10^-5mM_60X_20mW_20x20_sca...  \n",
       "4      0  20200226_moxtek_R6G_10^-5mM_60X_20mW_20x20_sca...  "
      ]
     },
     "execution_count": 124,
     "metadata": {},
     "output_type": "execute_result"
    }
   ],
   "source": [
    "sample_df.head()"
   ]
  },
  {
   "cell_type": "code",
   "execution_count": 132,
   "id": "ranking-rotation",
   "metadata": {},
   "outputs": [],
   "source": [
    "sample_df['label_value'] = sample_df['label'].apply(lambda x: x.value)"
   ]
  },
  {
   "cell_type": "code",
   "execution_count": 139,
   "id": "weird-composer",
   "metadata": {},
   "outputs": [
    {
     "data": {
      "text/html": [
       "<div>\n",
       "<style scoped>\n",
       "    .dataframe tbody tr th:only-of-type {\n",
       "        vertical-align: middle;\n",
       "    }\n",
       "\n",
       "    .dataframe tbody tr th {\n",
       "        vertical-align: top;\n",
       "    }\n",
       "\n",
       "    .dataframe thead tr th {\n",
       "        text-align: left;\n",
       "    }\n",
       "</style>\n",
       "<table border=\"1\" class=\"dataframe\">\n",
       "  <thead>\n",
       "    <tr>\n",
       "      <th></th>\n",
       "      <th>spectrum</th>\n",
       "      <th>label</th>\n",
       "      <th>x_pos</th>\n",
       "      <th>y_pos</th>\n",
       "      <th>name</th>\n",
       "    </tr>\n",
       "    <tr>\n",
       "      <th></th>\n",
       "      <th>count</th>\n",
       "      <th>count</th>\n",
       "      <th>count</th>\n",
       "      <th>count</th>\n",
       "      <th>count</th>\n",
       "    </tr>\n",
       "  </thead>\n",
       "  <tbody>\n",
       "    <tr>\n",
       "      <th>BAD</th>\n",
       "      <td>936</td>\n",
       "      <td>936</td>\n",
       "      <td>936</td>\n",
       "      <td>936</td>\n",
       "      <td>936</td>\n",
       "    </tr>\n",
       "    <tr>\n",
       "      <th>GOOD</th>\n",
       "      <td>940</td>\n",
       "      <td>940</td>\n",
       "      <td>940</td>\n",
       "      <td>940</td>\n",
       "      <td>940</td>\n",
       "    </tr>\n",
       "    <tr>\n",
       "      <th>MAYBE</th>\n",
       "      <td>119</td>\n",
       "      <td>119</td>\n",
       "      <td>119</td>\n",
       "      <td>119</td>\n",
       "      <td>119</td>\n",
       "    </tr>\n",
       "  </tbody>\n",
       "</table>\n",
       "</div>"
      ],
      "text/plain": [
       "      spectrum label x_pos y_pos  name\n",
       "         count count count count count\n",
       "BAD        936   936   936   936   936\n",
       "GOOD       940   940   940   940   940\n",
       "MAYBE      119   119   119   119   119"
      ]
     },
     "execution_count": 139,
     "metadata": {},
     "output_type": "execute_result"
    }
   ],
   "source": [
    "grouped_index = sample_df.groupby('label_value').agg(['count'])\n",
    "grouped_index.index = [Label(value).name for value in grouped_index.index]\n",
    "grouped_index"
   ]
  },
  {
   "cell_type": "markdown",
   "id": "changed-surname",
   "metadata": {},
   "source": [
    "## Visualize Training Substrates"
   ]
  },
  {
   "cell_type": "code",
   "execution_count": 140,
   "id": "broad-contest",
   "metadata": {},
   "outputs": [
    {
     "data": {
      "text/plain": [
       "spectrum  count    1995\n",
       "label     count    1995\n",
       "x_pos     count    1995\n",
       "y_pos     count    1995\n",
       "name      count    1995\n",
       "dtype: int64"
      ]
     },
     "execution_count": 140,
     "metadata": {},
     "output_type": "execute_result"
    }
   ],
   "source": [
    "grouped_index.sum()"
   ]
  },
  {
   "cell_type": "code",
   "execution_count": 8,
   "id": "sophisticated-postcard",
   "metadata": {},
   "outputs": [],
   "source": [
    "y_train_maybe = make_df([sample_list[1]])['label'].apply(lambda x: x.value).to_numpy()"
   ]
  },
  {
   "cell_type": "code",
   "execution_count": 16,
   "id": "middle-solution",
   "metadata": {},
   "outputs": [
    {
     "data": {
      "image/png": "[encoded data removed]",
      "text/plain": [
       "<Figure size 1800x1200 with 6 Axes>"
      ]
     },
     "metadata": {},
     "output_type": "display_data"
    }
   ],
   "source": [
    "#predicting substrate  \n",
    "from matplotlib import colors\n",
    "import matplotlib \n",
    "from matplotlib.colors import ListedColormap\n",
    "import matplotlib.gridspec as gridspec\n",
    "\n",
    "color_key = {0: 'red', 1: 'lime', 2: 'purple'}\n",
    "fig, axes = plt.subplots(2,3, figsize=(6,4), dpi=300)\n",
    "#axes.flatten()[-1].remove()\n",
    "#fig.subplots_adjust(bottom=0.8)\n",
    "#cbar_x = fig.add_axes() #[0, 1, 1, 0.1])\n",
    "j = 0\n",
    "axes_iter = iter(axes.flatten())\n",
    "next(axes_iter)\n",
    "for ax, sample in zip(axes_iter, sample_list):\n",
    "    j += 1\n",
    "    cmap = ListedColormap(['k', 'w', 'r'])\n",
    "    label = 'Sample ' + str(j)\n",
    "    #ax.annotate(label, (0.1, 0.5), xycoords='axes fraction', va='center_baseline', fontsize=10, color = 'white')\n",
    "    z = make_df([sample])['label'].apply(lambda x: x.value).to_numpy()\n",
    "    a = int(np.sqrt(len(z)))\n",
    "    if a*a < len(z):\n",
    "        z_list = list(z)\n",
    "        for i in range(a*a, len(z)):\n",
    "            z_list.pop()\n",
    "        z = np.array(z_list)\n",
    "    elif a*a > len(z):\n",
    "        z_list = z\n",
    "        for i in range(len(z), a*a):\n",
    "            z_list.append(2)\n",
    "        z = np.array(z_list)   \n",
    "    x = np.reshape(z,(a,a))\n",
    "    #plt.cm.ScalarMappable('tab10')\n",
    "    color_order = []\n",
    "    indices_found = []\n",
    "    for num in z:\n",
    "        if num not in indices_found:\n",
    "            color_order.append(color_key[num])\n",
    "            indices_found.append(num)\n",
    "        if len(color_order) >= 3:\n",
    "            break\n",
    "\n",
    "    cmap2 = colors.ListedColormap(color_order)\n",
    "    #bounds=[-0.5,0.5,1.5, 3]\n",
    "    #norm = colors.BoundaryNorm(bounds, cmap2.N)\n",
    "    ax.imshow(x,cmap=cmap2) #, norm=norm)\n",
    "    ax.tick_params(axis='both', which='both', bottom=False, top=False, left=False, right=False, labelright=False, labelleft=False, labelbottom=False,labeltop=False) # removes tick marks\n",
    "#fig.tight_layout()\n",
    "last_axis = axes.flatten()[0]\n",
    "fig.colorbar(matplotlib.cm.ScalarMappable(norm=None, cmap=ListedColormap(['red', 'lime', 'purple'])), orientation='vertical', ticks=[], cax=last_axis) #  label=\"Bad Good Maybe\") #ticks=[], location=\"bottom\") #, label=\"Bad           Maybe            Good\", location=\"bottom\")\n",
    "#gs = gridspec.GridSpec(2,3)\n",
    "# last_axis.set_position(gs[-1].get_position(fig))\n",
    "# last_axis.set_subplotspec(gs[-1])              # only necessary if using tight_layout()\n",
    "fig.subplots_adjust(hspace=0.1, wspace=0.1, left=None, bottom=None, right=None, top=None)\n",
    "\n",
    "plt.savefig(os.path.join(output_dir, 'substrates_map.svg'))\n",
    "\n",
    "#comparison\n",
    "#plt.matshow(y_correct)"
   ]
  },
  {
   "cell_type": "code",
   "execution_count": 113,
   "id": "descending-pricing",
   "metadata": {},
   "outputs": [
    {
     "data": {
      "text/plain": [
       "19"
      ]
     },
     "execution_count": 113,
     "metadata": {},
     "output_type": "execute_result"
    }
   ],
   "source": [
    "a"
   ]
  },
  {
   "cell_type": "code",
   "execution_count": 18,
   "id": "filled-mainstream",
   "metadata": {},
   "outputs": [],
   "source": [
    "params = {'learning_rate': 0.0167,\n",
    "         'max_depth': 4,\n",
    "         'max_features': 5,\n",
    "         'min_sample_leaf': 1,\n",
    "         'min_sample_split': 1,\n",
    "         'n_estimators': 780,\n",
    "         'random_state': 42,\n",
    "         'subsample': 0.75}"
   ]
  },
  {
   "cell_type": "markdown",
   "id": "contemporary-barcelona",
   "metadata": {},
   "source": [
    "### Now train model on each out of sample, test on the others and compute metrics"
   ]
  },
  {
   "cell_type": "code",
   "execution_count": 19,
   "id": "greater-baking",
   "metadata": {},
   "outputs": [],
   "source": [
    "sample_names_short = []\n",
    "sample_names_long = []\n",
    "for index, sample in enumerate(sample_list):\n",
    "    sample_names_short.append('Sample ' + str(index))\n",
    "    sample_names_long.append(sample.name)\n",
    "# build train_test tuples for each sample \n",
    "train_test_dict = {}\n",
    "for i in range(len(sample_list)):\n",
    "    train_samples = []\n",
    "    test_samples = []\n",
    "    for j in range(len(sample_list)):\n",
    "        if i == j:\n",
    "            test_samples.append(sample_list[j])\n",
    "        else:\n",
    "            train_samples.append(sample_list[j])\n",
    "    train_test_dict[i] = (make_Xy(make_df(train_samples)), make_Xy(make_df(test_samples)))"
   ]
  },
  {
   "cell_type": "code",
   "execution_count": 20,
   "id": "running-biology",
   "metadata": {},
   "outputs": [
    {
     "name": "stderr",
     "output_type": "stream",
     "text": [
      "/usr/local/anaconda3/lib/python3.7/site-packages/sklearn/metrics/_classification.py:1221: UndefinedMetricWarning: Precision is ill-defined and being set to 0.0 due to no predicted samples. Use `zero_division` parameter to control this behavior.\n",
      "  _warn_prf(average, modifier, msg_start, len(result))\n"
     ]
    }
   ],
   "source": [
    "# calculate metrics \n",
    "df = pd.DataFrame()\n",
    "fitvis_dict = {}\n",
    "for i in train_test_dict.keys():\n",
    "    Xy_train, Xy_test = train_test_dict[i]\n",
    "    X_train, y_train = Xy_train\n",
    "    X_test, y_test = Xy_test\n",
    "    xgb = XGBClassifier(**params)\n",
    "    xgb.fit(X_train, y_train)\n",
    "    y_pred = xgb.predict(X_test)\n",
    "    y_probs = xgb.predict_proba(X_test)[:,1]\n",
    "    fitvis = FittingVisualizer(X_test, y_test, y_pred, y_scores=y_probs, save_data=False)\n",
    "    fitvis_dict[i] = fitvis\n",
    "    tmp_df = fitvis.get_stats_df()\n",
    "    tmp_df['frac pos'] = sum(y_test)/len(y_test)\n",
    "    df = df.append(tmp_df)\n",
    "df.index = sample_names_short\n",
    "df['test samples'] = sample_names_long"
   ]
  },
  {
   "cell_type": "code",
   "execution_count": 21,
   "id": "christian-steering",
   "metadata": {},
   "outputs": [],
   "source": [
    "df['test samples'] = sample_names_long"
   ]
  },
  {
   "cell_type": "code",
   "execution_count": 22,
   "id": "generous-apparel",
   "metadata": {},
   "outputs": [],
   "source": [
    "df.to_excel(os.path.join(output_dir, 'test_sample_result.xlsx'))"
   ]
  },
  {
   "cell_type": "code",
   "execution_count": 23,
   "id": "radical-handling",
   "metadata": {},
   "outputs": [],
   "source": [
    "from enum import Enum\n",
    "class ResultType(Enum):\n",
    "    MAYBE = 0\n",
    "    TN = 1\n",
    "    FN = 2\n",
    "    FP = 3\n",
    "    TP = 4"
   ]
  },
  {
   "cell_type": "code",
   "execution_count": 24,
   "id": "incredible-newark",
   "metadata": {},
   "outputs": [],
   "source": [
    "X, y = make_Xy(make_df(train_samples), remove_maybe_uncat=False)\n",
    "X, y_pred = make_Xy(make_df(train_samples), remove_maybe_uncat=True)"
   ]
  },
  {
   "cell_type": "code",
   "execution_count": 25,
   "id": "falling-saturday",
   "metadata": {},
   "outputs": [
    {
     "data": {
      "text/plain": [
       "'MAYBE'"
      ]
     },
     "execution_count": 25,
     "metadata": {},
     "output_type": "execute_result"
    }
   ],
   "source": [
    "ResultType.MAYBE.name"
   ]
  },
  {
   "cell_type": "code",
   "execution_count": 26,
   "id": "sixth-canadian",
   "metadata": {},
   "outputs": [],
   "source": [
    "def make_y_vec_result(y_true_with_maybe, y_pred):\n",
    "    result_label = []\n",
    "    tracking_i = 0 \n",
    "    for true_label in y_true_with_maybe:\n",
    "        if true_label == 2: #maybe\n",
    "            result_label.append(ResultType.MAYBE)\n",
    "            continue\n",
    "        elif true_label == 0: # bad\n",
    "            if y_pred[tracking_i] == 1:\n",
    "                result_label.append(ResultType.FP)\n",
    "            else:\n",
    "                result_label.append(ResultType.TN) #FN\n",
    "            tracking_i += 1 \n",
    "        else: # good \n",
    "            if y_pred[tracking_i] == 1: \n",
    "                result_label.append(ResultType.TP) # FP\n",
    "            else:\n",
    "                result_label.append(ResultType.FN)\n",
    "            tracking_i += 1 \n",
    "        \n",
    "    y_vec_result = [e.value for e in result_label]\n",
    "    return y_vec_result"
   ]
  },
  {
   "cell_type": "code",
   "execution_count": 27,
   "id": "practical-infrastructure",
   "metadata": {},
   "outputs": [],
   "source": [
    "result_vec_list = []\n",
    "for index, fv in fitvis_dict.items():\n",
    "    _, y_true_with_maybe = make_Xy(make_df([sample_list[index]]), remove_maybe_uncat=False)\n",
    "    result_vec_list.append(make_y_vec_result(y_true_with_maybe, fv.y_pred))"
   ]
  },
  {
   "cell_type": "code",
   "execution_count": 112,
   "id": "injured-namibia",
   "metadata": {},
   "outputs": [
    {
     "data": {
      "image/png": "[encoded data removed]",
      "text/plain": [
       "<Figure size 1800x300 with 5 Axes>"
      ]
     },
     "metadata": {},
     "output_type": "display_data"
    },
    {
     "data": {
      "text/plain": [
       "<Figure size 432x288 with 0 Axes>"
      ]
     },
     "metadata": {},
     "output_type": "display_data"
    },
    {
     "data": {
      "text/plain": [
       "<Figure size 432x288 with 0 Axes>"
      ]
     },
     "metadata": {},
     "output_type": "display_data"
    },
    {
     "data": {
      "text/plain": [
       "<Figure size 432x288 with 0 Axes>"
      ]
     },
     "metadata": {},
     "output_type": "display_data"
    },
    {
     "data": {
      "text/plain": [
       "<Figure size 432x288 with 0 Axes>"
      ]
     },
     "metadata": {},
     "output_type": "display_data"
    },
    {
     "data": {
      "text/plain": [
       "<Figure size 432x288 with 0 Axes>"
      ]
     },
     "metadata": {},
     "output_type": "display_data"
    }
   ],
   "source": [
    "color_key_int = {ResultType.MAYBE.value: np.array((162, 36, 173)),\n",
    "                 ResultType.TN.value: np.array((60, 80, 177)),\n",
    "                 ResultType.TP.value: np.array((0, 149, 239)),\n",
    "                 ResultType.FN.value: np.array((243, 29, 100)),  \n",
    "                 ResultType.FP.value: np.array((254, 67, 60))} \n",
    "\n",
    "fig, axes = plt.subplots(1, 5, figsize=(6, 1), dpi=300)\n",
    "axes_iter = iter(axes.flatten())\n",
    "for int_num, color_array in color_key_int.items():\n",
    "    ax = next(axes_iter)\n",
    "    x = np.ndarray(shape=(1, 1, 3), dtype=int)\n",
    "    x[0][0] = color_array\n",
    "    label = ResultType(int_num)\n",
    "    plt.figure()\n",
    "    ax.imshow(x)\n",
    "    ax.annotate(label.name, (0.1, 0.5), xycoords='axes fraction', va='center', fontsize=10, color = 'white')\n",
    "    ax.tick_params(axis='both', which='both', bottom=False, top=False, left=False, right=False, labelright=False, labelleft=False, labelbottom=False,labeltop=False) # removes tick marks"
   ]
  },
  {
   "cell_type": "code",
   "execution_count": null,
   "id": "heavy-floating",
   "metadata": {},
   "outputs": [],
   "source": []
  },
  {
   "cell_type": "code",
   "execution_count": 115,
   "id": "opponent-nurse",
   "metadata": {},
   "outputs": [
    {
     "data": {
      "image/png": "[encoded data removed]",
      "text/plain": [
       "<Figure size 1800x1200 with 6 Axes>"
      ]
     },
     "metadata": {},
     "output_type": "display_data"
    }
   ],
   "source": [
    "#predicting substrate  \n",
    "from matplotlib import colors\n",
    "import matplotlib \n",
    "from matplotlib.colors import ListedColormap\n",
    "import matplotlib.gridspec as gridspec\n",
    "\n",
    "substrate_num = 0 \n",
    "substrate_image = np.ndarray(shape=(19,19,3), dtype=int)\n",
    "fig, axes = plt.subplots(2,3, figsize=(6,4), dpi=300)\n",
    "axes_iter = iter(axes.flatten()) # skip first axis \n",
    "next(axes_iter)\n",
    "\n",
    "for ax, result_vec in zip(axes_iter, result_vec_list):\n",
    "    substrate_num += 1\n",
    "    ax.set_box_aspect(1)\n",
    "    label = 'Sample ' + str(substrate_num)\n",
    "    result_vec_iter = iter(result_vec)\n",
    "    for i in range(substrate_image.shape[0]):\n",
    "        for j in range(substrate_image.shape[1]):\n",
    "            substrate_image[i,j] = color_key_int[next(result_vec_iter)]\n",
    "            \n",
    "    ax.imshow(substrate_image)\n",
    "    ax.tick_params(axis='both', which='both', bottom=False, top=False, left=False, right=False, labelright=False, labelleft=False, labelbottom=False,labeltop=False) # removes tick marks\n",
    "\n",
    "fig.subplots_adjust(hspace=0.1, wspace=0.1, left=None, bottom=None, right=None, top=None)\n",
    "fig.colorbar(matplotlib.cm.ScalarMappable(norm=None, cmap=ListedColormap(list(color_key.values()))), orientation='vertical', ticks=[], cax=axes.flatten()[0]) #  label=\"Bad Good Maybe\") #ticks=[], location=\"bottom\") #, label=\"Bad           Maybe            Good\", location=\"bottom\")\n",
    "\n",
    "plt.savefig(os.path.join(output_dir, 'Predictions.svg'))\n"
   ]
  },
  {
   "cell_type": "code",
   "execution_count": 120,
   "id": "representative-sweden",
   "metadata": {},
   "outputs": [
    {
     "data": {
      "image/png": "[encoded data removed]",
      "text/plain": [
       "<Figure size 1800x1200 with 6 Axes>"
      ]
     },
     "metadata": {},
     "output_type": "display_data"
    }
   ],
   "source": [
    "#predicting substrate  \n",
    "from matplotlib import colors\n",
    "import matplotlib \n",
    "from matplotlib.colors import ListedColormap\n",
    "import matplotlib.gridspec as gridspec\n",
    "\n",
    "color_key_int = {0: np.array((255, 0, 0)), 1: np.array((127, 255, 0)), 2: np.array((162, 36, 173))}\n",
    "color_key_float = {0: np.array((255, 0, 0))/255, 1: np.array((127, 255, 0))/255, 2: np.array((162, 36, 173))/255}\n",
    "\n",
    "substrate_num = 0 \n",
    "substrate_image = np.ndarray(shape=(19,19,3), dtype=int)\n",
    "fig, axes = plt.subplots(2,3, figsize=(6,4), dpi=300)\n",
    "axes_iter = iter(axes.flatten()) # skip first axis \n",
    "next(axes_iter)\n",
    "for ax, sample in zip(axes_iter, sample_list):\n",
    "    substrate_num += 1\n",
    "    ax.set_box_aspect(1)\n",
    "    label = 'Sample ' + str(substrate_num)\n",
    "    X, y = make_Xy(make_df([sample]), remove_maybe_uncat=False)\n",
    "    y_iter = iter(y)\n",
    "    for i in range(substrate_image.shape[0]):\n",
    "        for j in range(substrate_image.shape[1]):\n",
    "            substrate_image[i,j] = color_key_int[next(y_iter)]\n",
    "            \n",
    "    ax.imshow(substrate_image)\n",
    "    ax.tick_params(axis='both', which='both', bottom=False, top=False, left=False, right=False, labelright=False, labelleft=False, labelbottom=False,labeltop=False) # removes tick marks\n",
    "\n",
    "fig.subplots_adjust(hspace=0.1, wspace=0.1, left=None, bottom=None, right=None, top=None)\n",
    "fig.colorbar(matplotlib.cm.ScalarMappable(norm=None, cmap=ListedColormap(list(color_key_float.values()))), orientation='vertical', ticks=[], cax=axes.flatten()[0]) #  label=\"Bad Good Maybe\") #ticks=[], location=\"bottom\") #, label=\"Bad           Maybe            Good\", location=\"bottom\")\n",
    "plt.savefig(os.path.join(output_dir, 'substrates_map.svg'))\n",
    "\n",
    "#comparison\n",
    "#plt.matshow(y_correct)"
   ]
  },
  {
   "cell_type": "code",
   "execution_count": 31,
   "id": "norman-simon",
   "metadata": {},
   "outputs": [
    {
     "name": "stdout",
     "output_type": "stream",
     "text": [
      "[(0.996078431372549, 0.2627450980392157, 0.23529411764705882), (0.0, 0.5843137254901961, 0.9372549019607843), (0.6352941176470588, 0.1411764705882353, 0.6784313725490196)]\n"
     ]
    }
   ],
   "source": [
    "print(color_order)"
   ]
  }
 ],
 "metadata": {
  "kernelspec": {
   "display_name": "Python 3",
   "language": "python",
   "name": "python3"
  },
  "language_info": {
   "codemirror_mode": {
    "name": "ipython",
    "version": 3
   },
   "file_extension": ".py",
   "mimetype": "text/x-python",
   "name": "python",
   "nbconvert_exporter": "python",
   "pygments_lexer": "ipython3",
   "version": "3.7.6"
  }
 },
 "nbformat": 4,
 "nbformat_minor": 5
}
